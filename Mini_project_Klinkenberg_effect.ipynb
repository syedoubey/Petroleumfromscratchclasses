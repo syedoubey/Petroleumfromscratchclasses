{
  "nbformat": 4,
  "nbformat_minor": 0,
  "metadata": {
    "colab": {
      "name": "Mini_project_Klinkenberg_effect.ipynb",
      "provenance": [],
      "collapsed_sections": [],
      "authorship_tag": "ABX9TyOj8H8sUAMwRN16z3lD6i8P",
      "include_colab_link": true
    },
    "kernelspec": {
      "name": "python3",
      "display_name": "Python 3"
    },
    "language_info": {
      "name": "python"
    }
  },
  "cells": [
    {
      "cell_type": "markdown",
      "metadata": {
        "id": "view-in-github",
        "colab_type": "text"
      },
      "source": [
        "<a href=\"https://colab.research.google.com/github/syedoubey/Petroleumfromscratchclasses/blob/main/Mini_project_Klinkenberg_effect.ipynb\" target=\"_parent\"><img src=\"https://colab.research.google.com/assets/colab-badge.svg\" alt=\"Open In Colab\"/></a>"
      ]
    },
    {
      "cell_type": "markdown",
      "metadata": {
        "id": "UCFz_IpmPzZ-"
      },
      "source": [
        "#Mini Project from Petroleum From Scratch \n",
        "#Courtesy - Divyanshu Vyas\n",
        "\n",
        "The permeability of a sample to a gas varies with the molecular weight of the gas and the applied pressure, as a consequence of gas slippage at the pore wall. Klinkenberg determined that liquid permeability (kL) is related to gas permeability (kg) by kL = kg/(1+b/p), where:\n",
        "\n",
        "p is the mean flowing pressure\n",
        "b is a constant for a particular gas in a given rock type\n",
        "The correction parameter b is determined by conducting the test at several flowing pressures and extrapolating to infinite pressure. Alternatively, one can use an empirical correlation established by Jones to estimate b. The correlation, with R2 of 0.90, is based on measurements on 384 samples (mostly sandstones) with permeabilities ranging from 0.01 to 2500 md.\n",
        "\n",
        "k(g) = k(l) + c(1/pm)\n",
        "\n",
        "kg = measured gas permeability \n",
        "\n",
        "pm = mean pressure\n",
        "\n",
        "kL = equivalent liquid permeability = absolute permeability K\n",
        "\n",
        "c = slope of the line\n",
        "\n",
        "c = b.k(l) = 6.9 kL^(-0.36)\n",
        "\n",
        "------------------------------\n",
        "\n",
        "6.9kL^(0.64) + pmkL - pm*kg = 0\n",
        "\n",
        "Using Newton Raphson's Iteration method, the proposed solution can be written as \n",
        "f'(ki) = 4.416 ki^(-0.36) + pm\n",
        "\n",
        "Example : -\n",
        "The permeability of a core plug is measured by air. Only one measurement is made at a mean pressure of 2.152 psi. The air permeability is 46.6 md. Estimate the absolute permeability of the core sample. Compare the result with the actual absolute permeability of 23.66 md.\n",
        "\n"
      ]
    },
    {
      "cell_type": "code",
      "metadata": {
        "colab": {
          "base_uri": "https://localhost:8080/"
        },
        "id": "svgzZXd8Pp-B",
        "outputId": "f2da8298-acfb-4075-9f54-c8ef830bd646"
      },
      "source": [
        "#algorithm for calculation\n",
        "#f(k= kl) = 6.9kL^(0.64) + pmkL - pm*kg = 0\n",
        "# f'(k) = 4.416 ki^(-0.36) + pm\n",
        "# k(i+1) = k(i) - f(ki)/f'(ki)\n",
        "# Where Ki is the initial permeability and k(i+1) is the iterative perm\n",
        "#and i is the iteration level\n",
        "\n",
        "# entering all the required variables for calculation\n",
        "k = input('Enter Your First Guess of the permability of the core sample: ')\n",
        "pm = input('Please enter your mean pressure of the gas passed through core sample: ')\n",
        "kg = input('Please enter your measured gas permeability of the core sample: ')\n",
        "\n",
        "k = float(k)\n",
        "pm = float(pm)\n",
        "kg = float(kg)\n",
        "\n",
        "while (6.9*(k**0.64) + pm*k - pm*kg)> 0.01:\n",
        "  k= k - ((6.9*(k**0.64) + pm*k - pm*kg)/(4.416*k**(-0.36) + pm))\n",
        "\n",
        "print(f'The measured permeablity of the core sample is {k}')\n"
      ],
      "execution_count": 5,
      "outputs": [
        {
          "output_type": "stream",
          "name": "stdout",
          "text": [
            "Enter Your First Guess of the permability of the core sample: 50\n",
            "Please enter your mean pressure of the gas passed through core sample: 2.152\n",
            "Please enter your measured gas permeability of the core sample: 46.6\n",
            "The measured permeablity of the core sample is 21.63092703566329\n"
          ]
        }
      ]
    }
  ]
}